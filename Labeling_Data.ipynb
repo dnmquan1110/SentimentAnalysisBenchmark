{
  "cells": [
    {
      "attachments": {},
      "cell_type": "markdown",
      "metadata": {
        "id": "_YRa10L4C93O"
      },
      "source": [
        "# Import library"
      ]
    },
    {
      "cell_type": "code",
      "execution_count": 1,
      "metadata": {
        "colab": {
          "base_uri": "https://localhost:8080/"
        },
        "id": "vSF4MqC91HUB",
        "outputId": "896db1a1-739c-4a53-aa37-f69b31867f7f"
      },
      "outputs": [
        {
          "name": "stderr",
          "output_type": "stream",
          "text": [
            "[nltk_data] Downloading collection 'popular'\n",
            "[nltk_data]    | \n",
            "[nltk_data]    | Downloading package cmudict to\n",
            "[nltk_data]    |     C:\\Users\\quain\\AppData\\Roaming\\nltk_data...\n",
            "[nltk_data]    |   Package cmudict is already up-to-date!\n",
            "[nltk_data]    | Downloading package gazetteers to\n",
            "[nltk_data]    |     C:\\Users\\quain\\AppData\\Roaming\\nltk_data...\n",
            "[nltk_data]    |   Package gazetteers is already up-to-date!\n",
            "[nltk_data]    | Downloading package genesis to\n",
            "[nltk_data]    |     C:\\Users\\quain\\AppData\\Roaming\\nltk_data...\n",
            "[nltk_data]    |   Package genesis is already up-to-date!\n",
            "[nltk_data]    | Downloading package gutenberg to\n",
            "[nltk_data]    |     C:\\Users\\quain\\AppData\\Roaming\\nltk_data...\n",
            "[nltk_data]    |   Package gutenberg is already up-to-date!\n",
            "[nltk_data]    | Downloading package inaugural to\n",
            "[nltk_data]    |     C:\\Users\\quain\\AppData\\Roaming\\nltk_data...\n",
            "[nltk_data]    |   Package inaugural is already up-to-date!\n",
            "[nltk_data]    | Downloading package movie_reviews to\n",
            "[nltk_data]    |     C:\\Users\\quain\\AppData\\Roaming\\nltk_data...\n",
            "[nltk_data]    |   Package movie_reviews is already up-to-date!\n",
            "[nltk_data]    | Downloading package names to\n",
            "[nltk_data]    |     C:\\Users\\quain\\AppData\\Roaming\\nltk_data...\n",
            "[nltk_data]    |   Package names is already up-to-date!\n",
            "[nltk_data]    | Downloading package shakespeare to\n",
            "[nltk_data]    |     C:\\Users\\quain\\AppData\\Roaming\\nltk_data...\n",
            "[nltk_data]    |   Package shakespeare is already up-to-date!\n",
            "[nltk_data]    | Downloading package stopwords to\n",
            "[nltk_data]    |     C:\\Users\\quain\\AppData\\Roaming\\nltk_data...\n",
            "[nltk_data]    |   Package stopwords is already up-to-date!\n",
            "[nltk_data]    | Downloading package treebank to\n",
            "[nltk_data]    |     C:\\Users\\quain\\AppData\\Roaming\\nltk_data...\n",
            "[nltk_data]    |   Package treebank is already up-to-date!\n",
            "[nltk_data]    | Downloading package twitter_samples to\n",
            "[nltk_data]    |     C:\\Users\\quain\\AppData\\Roaming\\nltk_data...\n",
            "[nltk_data]    |   Package twitter_samples is already up-to-date!\n",
            "[nltk_data]    | Downloading package omw to\n",
            "[nltk_data]    |     C:\\Users\\quain\\AppData\\Roaming\\nltk_data...\n",
            "[nltk_data]    |   Package omw is already up-to-date!\n",
            "[nltk_data]    | Downloading package omw-1.4 to\n",
            "[nltk_data]    |     C:\\Users\\quain\\AppData\\Roaming\\nltk_data...\n",
            "[nltk_data]    |   Package omw-1.4 is already up-to-date!\n",
            "[nltk_data]    | Downloading package wordnet to\n",
            "[nltk_data]    |     C:\\Users\\quain\\AppData\\Roaming\\nltk_data...\n",
            "[nltk_data]    |   Package wordnet is already up-to-date!\n",
            "[nltk_data]    | Downloading package wordnet2021 to\n",
            "[nltk_data]    |     C:\\Users\\quain\\AppData\\Roaming\\nltk_data...\n",
            "[nltk_data]    |   Package wordnet2021 is already up-to-date!\n",
            "[nltk_data]    | Downloading package wordnet31 to\n",
            "[nltk_data]    |     C:\\Users\\quain\\AppData\\Roaming\\nltk_data...\n",
            "[nltk_data]    |   Package wordnet31 is already up-to-date!\n",
            "[nltk_data]    | Downloading package wordnet_ic to\n",
            "[nltk_data]    |     C:\\Users\\quain\\AppData\\Roaming\\nltk_data...\n",
            "[nltk_data]    |   Package wordnet_ic is already up-to-date!\n",
            "[nltk_data]    | Downloading package words to\n",
            "[nltk_data]    |     C:\\Users\\quain\\AppData\\Roaming\\nltk_data...\n",
            "[nltk_data]    |   Package words is already up-to-date!\n",
            "[nltk_data]    | Downloading package maxent_ne_chunker to\n",
            "[nltk_data]    |     C:\\Users\\quain\\AppData\\Roaming\\nltk_data...\n",
            "[nltk_data]    |   Package maxent_ne_chunker is already up-to-date!\n",
            "[nltk_data]    | Downloading package punkt to\n",
            "[nltk_data]    |     C:\\Users\\quain\\AppData\\Roaming\\nltk_data...\n",
            "[nltk_data]    |   Package punkt is already up-to-date!\n",
            "[nltk_data]    | Downloading package snowball_data to\n",
            "[nltk_data]    |     C:\\Users\\quain\\AppData\\Roaming\\nltk_data...\n",
            "[nltk_data]    |   Package snowball_data is already up-to-date!\n",
            "[nltk_data]    | Downloading package averaged_perceptron_tagger to\n",
            "[nltk_data]    |     C:\\Users\\quain\\AppData\\Roaming\\nltk_data...\n",
            "[nltk_data]    |   Package averaged_perceptron_tagger is already up-\n",
            "[nltk_data]    |       to-date!\n",
            "[nltk_data]    | \n",
            "[nltk_data]  Done downloading collection popular\n",
            "[nltk_data] Downloading package stopwords to\n",
            "[nltk_data]     C:\\Users\\quain\\AppData\\Roaming\\nltk_data...\n",
            "[nltk_data]   Package stopwords is already up-to-date!\n",
            "[nltk_data] Downloading package wordnet to\n",
            "[nltk_data]     C:\\Users\\quain\\AppData\\Roaming\\nltk_data...\n",
            "[nltk_data]   Package wordnet is already up-to-date!\n",
            "[nltk_data] Downloading package sentiwordnet to\n",
            "[nltk_data]     C:\\Users\\quain\\AppData\\Roaming\\nltk_data...\n",
            "[nltk_data]   Package sentiwordnet is already up-to-date!\n"
          ]
        }
      ],
      "source": [
        "import pandas as pd\n",
        "import re\n",
        "import nltk\n",
        "nltk.download('popular')\n",
        "from nltk.tokenize import word_tokenize\n",
        "from nltk import pos_tag\n",
        "nltk.download('stopwords')\n",
        "from nltk.corpus import stopwords\n",
        "nltk.download('wordnet')\n",
        "from nltk.corpus import wordnet\n",
        "from nltk.stem import WordNetLemmatizer\n",
        "nltk.download('sentiwordnet')\n",
        "from nltk.corpus import sentiwordnet as swn"
      ]
    },
    {
      "attachments": {},
      "cell_type": "markdown",
      "metadata": {
        "id": "fHQCOCmgDBul"
      },
      "source": [
        "# Load data"
      ]
    },
    {
      "cell_type": "code",
      "execution_count": 2,
      "metadata": {
        "id": "5ry8Oqik1asS"
      },
      "outputs": [],
      "source": [
        "df_bottom = pd.read_csv(\"Crawling data/bottom_movie_reviews.csv\")\n",
        "df_top = pd.read_csv(\"Crawling data/top_movie_reviews.csv\")"
      ]
    },
    {
      "cell_type": "code",
      "execution_count": 3,
      "metadata": {
        "id": "SXjDUpJV1ix0"
      },
      "outputs": [
        {
          "data": {
            "text/html": [
              "<div>\n",
              "<style scoped>\n",
              "    .dataframe tbody tr th:only-of-type {\n",
              "        vertical-align: middle;\n",
              "    }\n",
              "\n",
              "    .dataframe tbody tr th {\n",
              "        vertical-align: top;\n",
              "    }\n",
              "\n",
              "    .dataframe thead th {\n",
              "        text-align: right;\n",
              "    }\n",
              "</style>\n",
              "<table border=\"1\" class=\"dataframe\">\n",
              "  <thead>\n",
              "    <tr style=\"text-align: right;\">\n",
              "      <th></th>\n",
              "      <th>user_name</th>\n",
              "      <th>title</th>\n",
              "      <th>rating</th>\n",
              "      <th>date</th>\n",
              "      <th>review</th>\n",
              "    </tr>\n",
              "  </thead>\n",
              "  <tbody>\n",
              "    <tr>\n",
              "      <th>0</th>\n",
              "      <td>andrewburgereviews</td>\n",
              "      <td>An offer so good, I couldn't refuse</td>\n",
              "      <td>10</td>\n",
              "      <td>1 April 2019</td>\n",
              "      <td>It is now past 1 PM and I just finished watchi...</td>\n",
              "    </tr>\n",
              "    <tr>\n",
              "      <th>1</th>\n",
              "      <td>gogoschka-1</td>\n",
              "      <td>For Me, This Is The Definitive Film</td>\n",
              "      <td>10</td>\n",
              "      <td>11 February 2018</td>\n",
              "      <td>This isn't just a beautifully crafted gangster...</td>\n",
              "    </tr>\n",
              "    <tr>\n",
              "      <th>2</th>\n",
              "      <td>Sleepin_Dragon</td>\n",
              "      <td>One of the best of all time.</td>\n",
              "      <td>10</td>\n",
              "      <td>6 February 2021</td>\n",
              "      <td>A masterclass in film making, is The Godfather...</td>\n",
              "    </tr>\n",
              "    <tr>\n",
              "      <th>3</th>\n",
              "      <td>alexkolokotronis</td>\n",
              "      <td>An Iconic Film</td>\n",
              "      <td>10</td>\n",
              "      <td>21 June 2008</td>\n",
              "      <td>Tell me a movie that is more famous than this....</td>\n",
              "    </tr>\n",
              "    <tr>\n",
              "      <th>4</th>\n",
              "      <td>b-a-h TNT-6</td>\n",
              "      <td>Another kind of \"family movie\"</td>\n",
              "      <td>10</td>\n",
              "      <td>5 March 2002</td>\n",
              "      <td>The Godfather is one of the few films in which...</td>\n",
              "    </tr>\n",
              "    <tr>\n",
              "      <th>...</th>\n",
              "      <td>...</td>\n",
              "      <td>...</td>\n",
              "      <td>...</td>\n",
              "      <td>...</td>\n",
              "      <td>...</td>\n",
              "    </tr>\n",
              "    <tr>\n",
              "      <th>13376</th>\n",
              "      <td>McStubby</td>\n",
              "      <td>Overrated in its badness</td>\n",
              "      <td>6</td>\n",
              "      <td>5 June 2021</td>\n",
              "      <td>Definitely not the worst movie ever. People wh...</td>\n",
              "    </tr>\n",
              "    <tr>\n",
              "      <th>13377</th>\n",
              "      <td>scottfilm</td>\n",
              "      <td>Absolute Crap!!! Needs a Remake</td>\n",
              "      <td>1</td>\n",
              "      <td>6 September 2006</td>\n",
              "      <td>The idea of this film was interesting, but the...</td>\n",
              "    </tr>\n",
              "    <tr>\n",
              "      <th>13378</th>\n",
              "      <td>Toxikfoxx</td>\n",
              "      <td>Troll 2...</td>\n",
              "      <td>1</td>\n",
              "      <td>7 August 2001</td>\n",
              "      <td>I will admit that Troll 2 was so insanely grea...</td>\n",
              "    </tr>\n",
              "    <tr>\n",
              "      <th>13379</th>\n",
              "      <td>markus_l-37396</td>\n",
              "      <td>Troll muthafucin 2 is tha greatest movie evner...</td>\n",
              "      <td>10</td>\n",
              "      <td>27 June 2022</td>\n",
              "      <td>Troll 2 is the first movie in the GOBLIN franc...</td>\n",
              "    </tr>\n",
              "    <tr>\n",
              "      <th>13380</th>\n",
              "      <td>borumaschine</td>\n",
              "      <td>So bad...</td>\n",
              "      <td>3</td>\n",
              "      <td>3 July 2007</td>\n",
              "      <td>I watched this film because I wanted so see a ...</td>\n",
              "    </tr>\n",
              "  </tbody>\n",
              "</table>\n",
              "<p>13381 rows × 5 columns</p>\n",
              "</div>"
            ],
            "text/plain": [
              "                user_name                                              title  \\\n",
              "0      andrewburgereviews                An offer so good, I couldn't refuse   \n",
              "1             gogoschka-1                For Me, This Is The Definitive Film   \n",
              "2          Sleepin_Dragon                       One of the best of all time.   \n",
              "3        alexkolokotronis                                     An Iconic Film   \n",
              "4             b-a-h TNT-6                     Another kind of \"family movie\"   \n",
              "...                   ...                                                ...   \n",
              "13376            McStubby                           Overrated in its badness   \n",
              "13377           scottfilm                    Absolute Crap!!! Needs a Remake   \n",
              "13378           Toxikfoxx                                         Troll 2...   \n",
              "13379      markus_l-37396  Troll muthafucin 2 is tha greatest movie evner...   \n",
              "13380        borumaschine                                          So bad...   \n",
              "\n",
              "       rating              date  \\\n",
              "0          10      1 April 2019   \n",
              "1          10  11 February 2018   \n",
              "2          10   6 February 2021   \n",
              "3          10      21 June 2008   \n",
              "4          10      5 March 2002   \n",
              "...       ...               ...   \n",
              "13376       6       5 June 2021   \n",
              "13377       1  6 September 2006   \n",
              "13378       1     7 August 2001   \n",
              "13379      10      27 June 2022   \n",
              "13380       3       3 July 2007   \n",
              "\n",
              "                                                  review  \n",
              "0      It is now past 1 PM and I just finished watchi...  \n",
              "1      This isn't just a beautifully crafted gangster...  \n",
              "2      A masterclass in film making, is The Godfather...  \n",
              "3      Tell me a movie that is more famous than this....  \n",
              "4      The Godfather is one of the few films in which...  \n",
              "...                                                  ...  \n",
              "13376  Definitely not the worst movie ever. People wh...  \n",
              "13377  The idea of this film was interesting, but the...  \n",
              "13378  I will admit that Troll 2 was so insanely grea...  \n",
              "13379  Troll 2 is the first movie in the GOBLIN franc...  \n",
              "13380  I watched this film because I wanted so see a ...  \n",
              "\n",
              "[13381 rows x 5 columns]"
            ]
          },
          "execution_count": 3,
          "metadata": {},
          "output_type": "execute_result"
        }
      ],
      "source": [
        "df_full = pd.concat([df_top, df_bottom], ignore_index=True)\n",
        "df_full"
      ]
    },
    {
      "cell_type": "code",
      "execution_count": 4,
      "metadata": {
        "colab": {
          "base_uri": "https://localhost:8080/",
          "height": 424
        },
        "id": "ILO5EbDy2xXt",
        "outputId": "cf317bad-ee9a-49dc-accb-da1a55dd7b99"
      },
      "outputs": [
        {
          "data": {
            "text/html": [
              "<div>\n",
              "<style scoped>\n",
              "    .dataframe tbody tr th:only-of-type {\n",
              "        vertical-align: middle;\n",
              "    }\n",
              "\n",
              "    .dataframe tbody tr th {\n",
              "        vertical-align: top;\n",
              "    }\n",
              "\n",
              "    .dataframe thead th {\n",
              "        text-align: right;\n",
              "    }\n",
              "</style>\n",
              "<table border=\"1\" class=\"dataframe\">\n",
              "  <thead>\n",
              "    <tr style=\"text-align: right;\">\n",
              "      <th></th>\n",
              "      <th>review</th>\n",
              "    </tr>\n",
              "  </thead>\n",
              "  <tbody>\n",
              "    <tr>\n",
              "      <th>0</th>\n",
              "      <td>It is now past 1 PM and I just finished watchi...</td>\n",
              "    </tr>\n",
              "    <tr>\n",
              "      <th>1</th>\n",
              "      <td>This isn't just a beautifully crafted gangster...</td>\n",
              "    </tr>\n",
              "    <tr>\n",
              "      <th>2</th>\n",
              "      <td>A masterclass in film making, is The Godfather...</td>\n",
              "    </tr>\n",
              "    <tr>\n",
              "      <th>3</th>\n",
              "      <td>Tell me a movie that is more famous than this....</td>\n",
              "    </tr>\n",
              "    <tr>\n",
              "      <th>4</th>\n",
              "      <td>The Godfather is one of the few films in which...</td>\n",
              "    </tr>\n",
              "    <tr>\n",
              "      <th>...</th>\n",
              "      <td>...</td>\n",
              "    </tr>\n",
              "    <tr>\n",
              "      <th>13376</th>\n",
              "      <td>Definitely not the worst movie ever. People wh...</td>\n",
              "    </tr>\n",
              "    <tr>\n",
              "      <th>13377</th>\n",
              "      <td>The idea of this film was interesting, but the...</td>\n",
              "    </tr>\n",
              "    <tr>\n",
              "      <th>13378</th>\n",
              "      <td>I will admit that Troll 2 was so insanely grea...</td>\n",
              "    </tr>\n",
              "    <tr>\n",
              "      <th>13379</th>\n",
              "      <td>Troll 2 is the first movie in the GOBLIN franc...</td>\n",
              "    </tr>\n",
              "    <tr>\n",
              "      <th>13380</th>\n",
              "      <td>I watched this film because I wanted so see a ...</td>\n",
              "    </tr>\n",
              "  </tbody>\n",
              "</table>\n",
              "<p>13381 rows × 1 columns</p>\n",
              "</div>"
            ],
            "text/plain": [
              "                                                  review\n",
              "0      It is now past 1 PM and I just finished watchi...\n",
              "1      This isn't just a beautifully crafted gangster...\n",
              "2      A masterclass in film making, is The Godfather...\n",
              "3      Tell me a movie that is more famous than this....\n",
              "4      The Godfather is one of the few films in which...\n",
              "...                                                  ...\n",
              "13376  Definitely not the worst movie ever. People wh...\n",
              "13377  The idea of this film was interesting, but the...\n",
              "13378  I will admit that Troll 2 was so insanely grea...\n",
              "13379  Troll 2 is the first movie in the GOBLIN franc...\n",
              "13380  I watched this film because I wanted so see a ...\n",
              "\n",
              "[13381 rows x 1 columns]"
            ]
          },
          "execution_count": 4,
          "metadata": {},
          "output_type": "execute_result"
        }
      ],
      "source": [
        "raw_data = df_full[[\"review\"]]\n",
        "raw_data"
      ]
    },
    {
      "attachments": {},
      "cell_type": "markdown",
      "metadata": {
        "id": "M9Ocpi_UDR4r"
      },
      "source": [
        "# Pre-process"
      ]
    },
    {
      "attachments": {},
      "cell_type": "markdown",
      "metadata": {
        "id": "O25xXLbRDVvL"
      },
      "source": [
        "## Tokenzize sentences"
      ]
    },
    {
      "cell_type": "code",
      "execution_count": 5,
      "metadata": {
        "id": "ZZxFHK0I_3vb"
      },
      "outputs": [],
      "source": [
        "sentences_data = []\n",
        "for review in raw_data['review']:\n",
        "    tokens = nltk.sent_tokenize(review)\n",
        "    sentences_data.extend(tokens)\n",
        "data = pd.DataFrame({\"review\": sentences_data})"
      ]
    },
    {
      "cell_type": "code",
      "execution_count": 6,
      "metadata": {},
      "outputs": [
        {
          "data": {
            "text/html": [
              "<div>\n",
              "<style scoped>\n",
              "    .dataframe tbody tr th:only-of-type {\n",
              "        vertical-align: middle;\n",
              "    }\n",
              "\n",
              "    .dataframe tbody tr th {\n",
              "        vertical-align: top;\n",
              "    }\n",
              "\n",
              "    .dataframe thead th {\n",
              "        text-align: right;\n",
              "    }\n",
              "</style>\n",
              "<table border=\"1\" class=\"dataframe\">\n",
              "  <thead>\n",
              "    <tr style=\"text-align: right;\">\n",
              "      <th></th>\n",
              "      <th>review</th>\n",
              "    </tr>\n",
              "  </thead>\n",
              "  <tbody>\n",
              "    <tr>\n",
              "      <th>0</th>\n",
              "      <td>It is now past 1 PM and I just finished watchi...</td>\n",
              "    </tr>\n",
              "    <tr>\n",
              "      <th>1</th>\n",
              "      <td>I should probably go to bed.</td>\n",
              "    </tr>\n",
              "    <tr>\n",
              "      <th>2</th>\n",
              "      <td>It's late and tomorrow I have to wake up a bit...</td>\n",
              "    </tr>\n",
              "    <tr>\n",
              "      <th>3</th>\n",
              "      <td>But not early enough to postpone writing these...</td>\n",
              "    </tr>\n",
              "    <tr>\n",
              "      <th>4</th>\n",
              "      <td>Now that I have seen it three times, the oppor...</td>\n",
              "    </tr>\n",
              "    <tr>\n",
              "      <th>...</th>\n",
              "      <td>...</td>\n",
              "    </tr>\n",
              "    <tr>\n",
              "      <th>172697</th>\n",
              "      <td>I watched this film because I wanted so see a ...</td>\n",
              "    </tr>\n",
              "    <tr>\n",
              "      <th>172698</th>\n",
              "      <td>But everyone, who wants a really good film wit...</td>\n",
              "    </tr>\n",
              "    <tr>\n",
              "      <th>172699</th>\n",
              "      <td>The trolls in this film look really funny and ...</td>\n",
              "    </tr>\n",
              "    <tr>\n",
              "      <th>172700</th>\n",
              "      <td>But it wasn't a horror movie for me, I never w...</td>\n",
              "    </tr>\n",
              "    <tr>\n",
              "      <th>172701</th>\n",
              "      <td>It's more a comedy.</td>\n",
              "    </tr>\n",
              "  </tbody>\n",
              "</table>\n",
              "<p>172702 rows × 1 columns</p>\n",
              "</div>"
            ],
            "text/plain": [
              "                                                   review\n",
              "0       It is now past 1 PM and I just finished watchi...\n",
              "1                            I should probably go to bed.\n",
              "2       It's late and tomorrow I have to wake up a bit...\n",
              "3       But not early enough to postpone writing these...\n",
              "4       Now that I have seen it three times, the oppor...\n",
              "...                                                   ...\n",
              "172697  I watched this film because I wanted so see a ...\n",
              "172698  But everyone, who wants a really good film wit...\n",
              "172699  The trolls in this film look really funny and ...\n",
              "172700  But it wasn't a horror movie for me, I never w...\n",
              "172701                                It's more a comedy.\n",
              "\n",
              "[172702 rows x 1 columns]"
            ]
          },
          "execution_count": 6,
          "metadata": {},
          "output_type": "execute_result"
        }
      ],
      "source": [
        "data"
      ]
    },
    {
      "attachments": {},
      "cell_type": "markdown",
      "metadata": {
        "id": "OPEiHMFaDbmE"
      },
      "source": [
        "## Remove special symbols"
      ]
    },
    {
      "cell_type": "code",
      "execution_count": 7,
      "metadata": {
        "colab": {
          "base_uri": "https://localhost:8080/",
          "height": 206
        },
        "id": "yAm4vjb0BqNp",
        "outputId": "2f795869-1492-4162-fd59-17069764dc33"
      },
      "outputs": [
        {
          "data": {
            "text/html": [
              "<div>\n",
              "<style scoped>\n",
              "    .dataframe tbody tr th:only-of-type {\n",
              "        vertical-align: middle;\n",
              "    }\n",
              "\n",
              "    .dataframe tbody tr th {\n",
              "        vertical-align: top;\n",
              "    }\n",
              "\n",
              "    .dataframe thead th {\n",
              "        text-align: right;\n",
              "    }\n",
              "</style>\n",
              "<table border=\"1\" class=\"dataframe\">\n",
              "  <thead>\n",
              "    <tr style=\"text-align: right;\">\n",
              "      <th></th>\n",
              "      <th>review</th>\n",
              "      <th>cleaned_review</th>\n",
              "    </tr>\n",
              "  </thead>\n",
              "  <tbody>\n",
              "    <tr>\n",
              "      <th>0</th>\n",
              "      <td>It is now past 1 PM and I just finished watchi...</td>\n",
              "      <td>It is now past PM and I just finished watching...</td>\n",
              "    </tr>\n",
              "    <tr>\n",
              "      <th>1</th>\n",
              "      <td>I should probably go to bed.</td>\n",
              "      <td>I should probably go to bed</td>\n",
              "    </tr>\n",
              "    <tr>\n",
              "      <th>2</th>\n",
              "      <td>It's late and tomorrow I have to wake up a bit...</td>\n",
              "      <td>It s late and tomorrow I have to wake up a bit...</td>\n",
              "    </tr>\n",
              "    <tr>\n",
              "      <th>3</th>\n",
              "      <td>But not early enough to postpone writing these...</td>\n",
              "      <td>But not early enough to postpone writing these...</td>\n",
              "    </tr>\n",
              "    <tr>\n",
              "      <th>4</th>\n",
              "      <td>Now that I have seen it three times, the oppor...</td>\n",
              "      <td>Now that I have seen it three times the opport...</td>\n",
              "    </tr>\n",
              "  </tbody>\n",
              "</table>\n",
              "</div>"
            ],
            "text/plain": [
              "                                              review  \\\n",
              "0  It is now past 1 PM and I just finished watchi...   \n",
              "1                       I should probably go to bed.   \n",
              "2  It's late and tomorrow I have to wake up a bit...   \n",
              "3  But not early enough to postpone writing these...   \n",
              "4  Now that I have seen it three times, the oppor...   \n",
              "\n",
              "                                      cleaned_review  \n",
              "0  It is now past PM and I just finished watching...  \n",
              "1                       I should probably go to bed   \n",
              "2  It s late and tomorrow I have to wake up a bit...  \n",
              "3  But not early enough to postpone writing these...  \n",
              "4  Now that I have seen it three times the opport...  "
            ]
          },
          "execution_count": 7,
          "metadata": {},
          "output_type": "execute_result"
        }
      ],
      "source": [
        "data['cleaned_review'] = data['review'].apply(lambda t: re.sub('[^A-Za-z]+', ' ', t))\n",
        "data.head()"
      ]
    },
    {
      "attachments": {},
      "cell_type": "markdown",
      "metadata": {
        "id": "TkZgokmhDhQc"
      },
      "source": [
        "## POS tagging"
      ]
    },
    {
      "cell_type": "code",
      "execution_count": 8,
      "metadata": {
        "id": "50Ft35Y0CmLd"
      },
      "outputs": [],
      "source": [
        "pos_dict = {'J':wordnet.ADJ, 'V':wordnet.VERB, 'N':wordnet.NOUN, 'R':wordnet.ADV}\n",
        "def POS_tagging(text):\n",
        "  tags = pos_tag(word_tokenize(text))\n",
        "  list_tag = []\n",
        "  for word, tag in tags:\n",
        "      if word.lower() not in set(stopwords.words('english')):\n",
        "        list_tag.append(tuple([word, pos_dict.get(tag[0])]))\n",
        "  return list_tag"
      ]
    },
    {
      "cell_type": "code",
      "execution_count": 9,
      "metadata": {
        "colab": {
          "base_uri": "https://localhost:8080/",
          "height": 206
        },
        "id": "2DypW03ECq4P",
        "outputId": "41bf11fc-253d-4f11-d569-ef076af28776"
      },
      "outputs": [
        {
          "data": {
            "text/html": [
              "<div>\n",
              "<style scoped>\n",
              "    .dataframe tbody tr th:only-of-type {\n",
              "        vertical-align: middle;\n",
              "    }\n",
              "\n",
              "    .dataframe tbody tr th {\n",
              "        vertical-align: top;\n",
              "    }\n",
              "\n",
              "    .dataframe thead th {\n",
              "        text-align: right;\n",
              "    }\n",
              "</style>\n",
              "<table border=\"1\" class=\"dataframe\">\n",
              "  <thead>\n",
              "    <tr style=\"text-align: right;\">\n",
              "      <th></th>\n",
              "      <th>review</th>\n",
              "      <th>cleaned_review</th>\n",
              "      <th>pos_tagged</th>\n",
              "    </tr>\n",
              "  </thead>\n",
              "  <tbody>\n",
              "    <tr>\n",
              "      <th>0</th>\n",
              "      <td>It is now past 1 PM and I just finished watchi...</td>\n",
              "      <td>It is now past PM and I just finished watching...</td>\n",
              "      <td>[(past, a), (PM, n), (finished, v), (watching,...</td>\n",
              "    </tr>\n",
              "    <tr>\n",
              "      <th>1</th>\n",
              "      <td>I should probably go to bed.</td>\n",
              "      <td>I should probably go to bed</td>\n",
              "      <td>[(probably, r), (go, v), (bed, v)]</td>\n",
              "    </tr>\n",
              "    <tr>\n",
              "      <th>2</th>\n",
              "      <td>It's late and tomorrow I have to wake up a bit...</td>\n",
              "      <td>It s late and tomorrow I have to wake up a bit...</td>\n",
              "      <td>[(late, a), (tomorrow, n), (wake, v), (bit, r)...</td>\n",
              "    </tr>\n",
              "    <tr>\n",
              "      <th>3</th>\n",
              "      <td>But not early enough to postpone writing these...</td>\n",
              "      <td>But not early enough to postpone writing these...</td>\n",
              "      <td>[(early, r), (enough, r), (postpone, v), (writ...</td>\n",
              "    </tr>\n",
              "    <tr>\n",
              "      <th>4</th>\n",
              "      <td>Now that I have seen it three times, the oppor...</td>\n",
              "      <td>Now that I have seen it three times the opport...</td>\n",
              "      <td>[(seen, v), (three, None), (times, v), (opport...</td>\n",
              "    </tr>\n",
              "  </tbody>\n",
              "</table>\n",
              "</div>"
            ],
            "text/plain": [
              "                                              review  \\\n",
              "0  It is now past 1 PM and I just finished watchi...   \n",
              "1                       I should probably go to bed.   \n",
              "2  It's late and tomorrow I have to wake up a bit...   \n",
              "3  But not early enough to postpone writing these...   \n",
              "4  Now that I have seen it three times, the oppor...   \n",
              "\n",
              "                                      cleaned_review  \\\n",
              "0  It is now past PM and I just finished watching...   \n",
              "1                       I should probably go to bed    \n",
              "2  It s late and tomorrow I have to wake up a bit...   \n",
              "3  But not early enough to postpone writing these...   \n",
              "4  Now that I have seen it three times the opport...   \n",
              "\n",
              "                                          pos_tagged  \n",
              "0  [(past, a), (PM, n), (finished, v), (watching,...  \n",
              "1                 [(probably, r), (go, v), (bed, v)]  \n",
              "2  [(late, a), (tomorrow, n), (wake, v), (bit, r)...  \n",
              "3  [(early, r), (enough, r), (postpone, v), (writ...  \n",
              "4  [(seen, v), (three, None), (times, v), (opport...  "
            ]
          },
          "execution_count": 9,
          "metadata": {},
          "output_type": "execute_result"
        }
      ],
      "source": [
        "data['pos_tagged'] = data['cleaned_review'].apply(POS_tagging)\n",
        "data.head()"
      ]
    },
    {
      "attachments": {},
      "cell_type": "markdown",
      "metadata": {
        "id": "WUM4Qnf4Dm0L"
      },
      "source": [
        "## Tokenize lemmatized sentences"
      ]
    },
    {
      "cell_type": "code",
      "execution_count": 10,
      "metadata": {},
      "outputs": [
        {
          "data": {
            "text/html": [
              "<div>\n",
              "<style scoped>\n",
              "    .dataframe tbody tr th:only-of-type {\n",
              "        vertical-align: middle;\n",
              "    }\n",
              "\n",
              "    .dataframe tbody tr th {\n",
              "        vertical-align: top;\n",
              "    }\n",
              "\n",
              "    .dataframe thead th {\n",
              "        text-align: right;\n",
              "    }\n",
              "</style>\n",
              "<table border=\"1\" class=\"dataframe\">\n",
              "  <thead>\n",
              "    <tr style=\"text-align: right;\">\n",
              "      <th></th>\n",
              "      <th>review</th>\n",
              "      <th>cleaned_review</th>\n",
              "      <th>pos_tagged</th>\n",
              "      <th>lemma</th>\n",
              "      <th>lemma_words</th>\n",
              "    </tr>\n",
              "  </thead>\n",
              "  <tbody>\n",
              "    <tr>\n",
              "      <th>0</th>\n",
              "      <td>It is now past 1 PM and I just finished watchi...</td>\n",
              "      <td>It is now past PM and I just finished watching...</td>\n",
              "      <td>[(past, a), (PM, n), (finished, v), (watching,...</td>\n",
              "      <td>past PM finished watching Francis Ford Coppo...</td>\n",
              "      <td>[past, PM, finished, watching, Francis, Ford, ...</td>\n",
              "    </tr>\n",
              "    <tr>\n",
              "      <th>1</th>\n",
              "      <td>I should probably go to bed.</td>\n",
              "      <td>I should probably go to bed</td>\n",
              "      <td>[(probably, r), (go, v), (bed, v)]</td>\n",
              "      <td>probably go bed</td>\n",
              "      <td>[probably, go, bed]</td>\n",
              "    </tr>\n",
              "    <tr>\n",
              "      <th>2</th>\n",
              "      <td>It's late and tomorrow I have to wake up a bit...</td>\n",
              "      <td>It s late and tomorrow I have to wake up a bit...</td>\n",
              "      <td>[(late, a), (tomorrow, n), (wake, v), (bit, r)...</td>\n",
              "      <td>late tomorrow wake bit early</td>\n",
              "      <td>[late, tomorrow, wake, bit, early]</td>\n",
              "    </tr>\n",
              "    <tr>\n",
              "      <th>3</th>\n",
              "      <td>But not early enough to postpone writing these...</td>\n",
              "      <td>But not early enough to postpone writing these...</td>\n",
              "      <td>[(early, r), (enough, r), (postpone, v), (writ...</td>\n",
              "      <td>early enough postpone writing line</td>\n",
              "      <td>[early, enough, postpone, writing, line]</td>\n",
              "    </tr>\n",
              "    <tr>\n",
              "      <th>4</th>\n",
              "      <td>Now that I have seen it three times, the oppor...</td>\n",
              "      <td>Now that I have seen it three times the opport...</td>\n",
              "      <td>[(seen, v), (three, None), (times, v), (opport...</td>\n",
              "      <td>seen three time opportunity sharing thought ...</td>\n",
              "      <td>[seen, three, time, opportunity, sharing, thou...</td>\n",
              "    </tr>\n",
              "  </tbody>\n",
              "</table>\n",
              "</div>"
            ],
            "text/plain": [
              "                                              review  \\\n",
              "0  It is now past 1 PM and I just finished watchi...   \n",
              "1                       I should probably go to bed.   \n",
              "2  It's late and tomorrow I have to wake up a bit...   \n",
              "3  But not early enough to postpone writing these...   \n",
              "4  Now that I have seen it three times, the oppor...   \n",
              "\n",
              "                                      cleaned_review  \\\n",
              "0  It is now past PM and I just finished watching...   \n",
              "1                       I should probably go to bed    \n",
              "2  It s late and tomorrow I have to wake up a bit...   \n",
              "3  But not early enough to postpone writing these...   \n",
              "4  Now that I have seen it three times the opport...   \n",
              "\n",
              "                                          pos_tagged  \\\n",
              "0  [(past, a), (PM, n), (finished, v), (watching,...   \n",
              "1                 [(probably, r), (go, v), (bed, v)]   \n",
              "2  [(late, a), (tomorrow, n), (wake, v), (bit, r)...   \n",
              "3  [(early, r), (enough, r), (postpone, v), (writ...   \n",
              "4  [(seen, v), (three, None), (times, v), (opport...   \n",
              "\n",
              "                                               lemma  \\\n",
              "0    past PM finished watching Francis Ford Coppo...   \n",
              "1                                    probably go bed   \n",
              "2                       late tomorrow wake bit early   \n",
              "3                 early enough postpone writing line   \n",
              "4    seen three time opportunity sharing thought ...   \n",
              "\n",
              "                                         lemma_words  \n",
              "0  [past, PM, finished, watching, Francis, Ford, ...  \n",
              "1                                [probably, go, bed]  \n",
              "2                 [late, tomorrow, wake, bit, early]  \n",
              "3           [early, enough, postpone, writing, line]  \n",
              "4  [seen, three, time, opportunity, sharing, thou...  "
            ]
          },
          "execution_count": 10,
          "metadata": {},
          "output_type": "execute_result"
        }
      ],
      "source": [
        "def lemmatize(pos_data):\n",
        "    lemma_sentence = \" \"\n",
        "    for item in pos_data:\n",
        "        lemma = WordNetLemmatizer().lemmatize(item[0])\n",
        "        lemma_sentence = lemma_sentence + \" \" + lemma\n",
        "    return lemma_sentence\n",
        "\n",
        "data['lemma'] = data['pos_tagged'].apply(lemmatize)\n",
        "data['lemma_words'] = data['lemma'].apply(word_tokenize)\n",
        "data.head()"
      ]
    },
    {
      "attachments": {},
      "cell_type": "markdown",
      "metadata": {
        "id": "ommmv4ZxDs7K"
      },
      "source": [
        "## Sentiment rule based labeling"
      ]
    },
    {
      "cell_type": "code",
      "execution_count": 11,
      "metadata": {
        "id": "eFDJgXthEfnp"
      },
      "outputs": [],
      "source": [
        "def wordnet_sentiment_analysis(pos_data):\n",
        "    sentiment = 0\n",
        "    tokens_count = 0\n",
        "    for word, pos in pos_data:\n",
        "        if not pos:\n",
        "            continue\n",
        "        lemma = WordNetLemmatizer().lemmatize(word, pos=pos)\n",
        "        if not lemma:\n",
        "            continue\n",
        "        synsets = wordnet.synsets(lemma, pos=pos)\n",
        "        if not synsets:\n",
        "            continue\n",
        "        synset = synsets[0]\n",
        "        swn_synset = swn.senti_synset(synset.name())\n",
        "        sentiment += swn_synset.pos_score() - swn_synset.neg_score()\n",
        "        tokens_count += 1\n",
        "    if not tokens_count:\n",
        "        return None\n",
        "    if sentiment>0:\n",
        "        return \"positive\"\n",
        "    if sentiment==0:\n",
        "        return \"neutral\"\n",
        "    else:\n",
        "        return \"negative\""
      ]
    },
    {
      "cell_type": "code",
      "execution_count": 12,
      "metadata": {
        "colab": {
          "base_uri": "https://localhost:8080/",
          "height": 320
        },
        "id": "lQpgoT-jEicd",
        "outputId": "d7ef0f00-92a6-40df-c068-684091bdeb78"
      },
      "outputs": [
        {
          "data": {
            "text/html": [
              "<div>\n",
              "<style scoped>\n",
              "    .dataframe tbody tr th:only-of-type {\n",
              "        vertical-align: middle;\n",
              "    }\n",
              "\n",
              "    .dataframe tbody tr th {\n",
              "        vertical-align: top;\n",
              "    }\n",
              "\n",
              "    .dataframe thead th {\n",
              "        text-align: right;\n",
              "    }\n",
              "</style>\n",
              "<table border=\"1\" class=\"dataframe\">\n",
              "  <thead>\n",
              "    <tr style=\"text-align: right;\">\n",
              "      <th></th>\n",
              "      <th>review</th>\n",
              "      <th>cleaned_review</th>\n",
              "      <th>pos_tagged</th>\n",
              "      <th>lemma</th>\n",
              "      <th>lemma_words</th>\n",
              "      <th>polarity</th>\n",
              "    </tr>\n",
              "  </thead>\n",
              "  <tbody>\n",
              "    <tr>\n",
              "      <th>0</th>\n",
              "      <td>It is now past 1 PM and I just finished watchi...</td>\n",
              "      <td>It is now past PM and I just finished watching...</td>\n",
              "      <td>[(past, a), (PM, n), (finished, v), (watching,...</td>\n",
              "      <td>past PM finished watching Francis Ford Coppo...</td>\n",
              "      <td>[past, PM, finished, watching, Francis, Ford, ...</td>\n",
              "      <td>negative</td>\n",
              "    </tr>\n",
              "    <tr>\n",
              "      <th>1</th>\n",
              "      <td>I should probably go to bed.</td>\n",
              "      <td>I should probably go to bed</td>\n",
              "      <td>[(probably, r), (go, v), (bed, v)]</td>\n",
              "      <td>probably go bed</td>\n",
              "      <td>[probably, go, bed]</td>\n",
              "      <td>neutral</td>\n",
              "    </tr>\n",
              "    <tr>\n",
              "      <th>2</th>\n",
              "      <td>It's late and tomorrow I have to wake up a bit...</td>\n",
              "      <td>It s late and tomorrow I have to wake up a bit...</td>\n",
              "      <td>[(late, a), (tomorrow, n), (wake, v), (bit, r)...</td>\n",
              "      <td>late tomorrow wake bit early</td>\n",
              "      <td>[late, tomorrow, wake, bit, early]</td>\n",
              "      <td>neutral</td>\n",
              "    </tr>\n",
              "    <tr>\n",
              "      <th>3</th>\n",
              "      <td>But not early enough to postpone writing these...</td>\n",
              "      <td>But not early enough to postpone writing these...</td>\n",
              "      <td>[(early, r), (enough, r), (postpone, v), (writ...</td>\n",
              "      <td>early enough postpone writing line</td>\n",
              "      <td>[early, enough, postpone, writing, line]</td>\n",
              "      <td>positive</td>\n",
              "    </tr>\n",
              "    <tr>\n",
              "      <th>4</th>\n",
              "      <td>Now that I have seen it three times, the oppor...</td>\n",
              "      <td>Now that I have seen it three times the opport...</td>\n",
              "      <td>[(seen, v), (three, None), (times, v), (opport...</td>\n",
              "      <td>seen three time opportunity sharing thought ...</td>\n",
              "      <td>[seen, three, time, opportunity, sharing, thou...</td>\n",
              "      <td>positive</td>\n",
              "    </tr>\n",
              "  </tbody>\n",
              "</table>\n",
              "</div>"
            ],
            "text/plain": [
              "                                              review  \\\n",
              "0  It is now past 1 PM and I just finished watchi...   \n",
              "1                       I should probably go to bed.   \n",
              "2  It's late and tomorrow I have to wake up a bit...   \n",
              "3  But not early enough to postpone writing these...   \n",
              "4  Now that I have seen it three times, the oppor...   \n",
              "\n",
              "                                      cleaned_review  \\\n",
              "0  It is now past PM and I just finished watching...   \n",
              "1                       I should probably go to bed    \n",
              "2  It s late and tomorrow I have to wake up a bit...   \n",
              "3  But not early enough to postpone writing these...   \n",
              "4  Now that I have seen it three times the opport...   \n",
              "\n",
              "                                          pos_tagged  \\\n",
              "0  [(past, a), (PM, n), (finished, v), (watching,...   \n",
              "1                 [(probably, r), (go, v), (bed, v)]   \n",
              "2  [(late, a), (tomorrow, n), (wake, v), (bit, r)...   \n",
              "3  [(early, r), (enough, r), (postpone, v), (writ...   \n",
              "4  [(seen, v), (three, None), (times, v), (opport...   \n",
              "\n",
              "                                               lemma  \\\n",
              "0    past PM finished watching Francis Ford Coppo...   \n",
              "1                                    probably go bed   \n",
              "2                       late tomorrow wake bit early   \n",
              "3                 early enough postpone writing line   \n",
              "4    seen three time opportunity sharing thought ...   \n",
              "\n",
              "                                         lemma_words  polarity  \n",
              "0  [past, PM, finished, watching, Francis, Ford, ...  negative  \n",
              "1                                [probably, go, bed]   neutral  \n",
              "2                 [late, tomorrow, wake, bit, early]   neutral  \n",
              "3           [early, enough, postpone, writing, line]  positive  \n",
              "4  [seen, three, time, opportunity, sharing, thou...  positive  "
            ]
          },
          "execution_count": 12,
          "metadata": {},
          "output_type": "execute_result"
        }
      ],
      "source": [
        "data['polarity'] = data['pos_tagged'].apply(wordnet_sentiment_analysis)\n",
        "data.head()"
      ]
    },
    {
      "cell_type": "code",
      "execution_count": 13,
      "metadata": {
        "colab": {
          "base_uri": "https://localhost:8080/"
        },
        "id": "VKbdyAz3KEiI",
        "outputId": "59960576-9dee-4204-a45c-713857aaaa60"
      },
      "outputs": [
        {
          "data": {
            "text/plain": [
              "review            172702\n",
              "cleaned_review    172702\n",
              "pos_tagged        172702\n",
              "lemma             172702\n",
              "lemma_words       172702\n",
              "polarity          163684\n",
              "dtype: int64"
            ]
          },
          "execution_count": 13,
          "metadata": {},
          "output_type": "execute_result"
        }
      ],
      "source": [
        "data.count()"
      ]
    },
    {
      "cell_type": "code",
      "execution_count": 14,
      "metadata": {
        "colab": {
          "base_uri": "https://localhost:8080/"
        },
        "id": "e8ouI8FROcrz",
        "outputId": "ae32ba8c-5deb-4d50-9c1e-0280285a1591"
      },
      "outputs": [
        {
          "data": {
            "text/plain": [
              "positive    81576\n",
              "negative    46512\n",
              "neutral     35596\n",
              "Name: polarity, dtype: int64"
            ]
          },
          "execution_count": 14,
          "metadata": {},
          "output_type": "execute_result"
        }
      ],
      "source": [
        "data['polarity'].value_counts()"
      ]
    },
    {
      "cell_type": "code",
      "execution_count": 15,
      "metadata": {
        "id": "LDpsOQaoFicc"
      },
      "outputs": [],
      "source": [
        "data.to_csv('labeled_data.csv',index=False)"
      ]
    }
  ],
  "metadata": {
    "colab": {
      "provenance": []
    },
    "kernelspec": {
      "display_name": "Python 3",
      "name": "python3"
    },
    "language_info": {
      "codemirror_mode": {
        "name": "ipython",
        "version": 3
      },
      "file_extension": ".py",
      "mimetype": "text/x-python",
      "name": "python",
      "nbconvert_exporter": "python",
      "pygments_lexer": "ipython3",
      "version": "3.9.7"
    }
  },
  "nbformat": 4,
  "nbformat_minor": 0
}
