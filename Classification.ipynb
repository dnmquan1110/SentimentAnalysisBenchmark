{
  "cells": [
    {
      "attachments": {},
      "cell_type": "markdown",
      "metadata": {
        "id": "uwJrjWwBfhCV"
      },
      "source": [
        "# Import library"
      ]
    },
    {
      "cell_type": "code",
      "execution_count": 1,
      "metadata": {
        "id": "pGWv0q1kb8Vv"
      },
      "outputs": [],
      "source": [
        "from sklearn.feature_extraction.text import TfidfVectorizer\n",
        "from sklearn.model_selection import train_test_split\n",
        "from sklearn.ensemble import RandomForestClassifier\n",
        "from sklearn.ensemble import GradientBoostingClassifier\n",
        "from sklearn.linear_model import LogisticRegression\n",
        "from sklearn.metrics import classification_report, accuracy_score\n",
        "import pandas as pd\n",
        "from gensim.models.doc2vec import Doc2Vec, TaggedDocument\n",
        "import numpy as np"
      ]
    },
    {
      "attachments": {},
      "cell_type": "markdown",
      "metadata": {
        "id": "kvdYy5Adfnxc"
      },
      "source": [
        "# Read data"
      ]
    },
    {
      "cell_type": "code",
      "execution_count": 2,
      "metadata": {
        "colab": {
          "base_uri": "https://localhost:8080/",
          "height": 320
        },
        "id": "yoTIym_qcUhH",
        "outputId": "44dcf625-2637-49c2-b77b-b851f9ba3f1c"
      },
      "outputs": [
        {
          "data": {
            "text/html": [
              "<div>\n",
              "<style scoped>\n",
              "    .dataframe tbody tr th:only-of-type {\n",
              "        vertical-align: middle;\n",
              "    }\n",
              "\n",
              "    .dataframe tbody tr th {\n",
              "        vertical-align: top;\n",
              "    }\n",
              "\n",
              "    .dataframe thead th {\n",
              "        text-align: right;\n",
              "    }\n",
              "</style>\n",
              "<table border=\"1\" class=\"dataframe\">\n",
              "  <thead>\n",
              "    <tr style=\"text-align: right;\">\n",
              "      <th></th>\n",
              "      <th>review</th>\n",
              "      <th>cleaned_review</th>\n",
              "      <th>pos_tagged</th>\n",
              "      <th>lemma</th>\n",
              "      <th>lemma_words</th>\n",
              "      <th>polarity</th>\n",
              "    </tr>\n",
              "  </thead>\n",
              "  <tbody>\n",
              "    <tr>\n",
              "      <th>0</th>\n",
              "      <td>It is now past 1 PM and I just finished watchi...</td>\n",
              "      <td>It is now past PM and I just finished watching...</td>\n",
              "      <td>[('past', 'a'), ('PM', 'n'), ('finished', 'v')...</td>\n",
              "      <td>past PM finished watching Francis Ford Coppo...</td>\n",
              "      <td>['past', 'PM', 'finished', 'watching', 'Franci...</td>\n",
              "      <td>negative</td>\n",
              "    </tr>\n",
              "    <tr>\n",
              "      <th>1</th>\n",
              "      <td>I should probably go to bed.</td>\n",
              "      <td>I should probably go to bed</td>\n",
              "      <td>[('probably', 'r'), ('go', 'v'), ('bed', 'v')]</td>\n",
              "      <td>probably go bed</td>\n",
              "      <td>['probably', 'go', 'bed']</td>\n",
              "      <td>neutral</td>\n",
              "    </tr>\n",
              "    <tr>\n",
              "      <th>2</th>\n",
              "      <td>It's late and tomorrow I have to wake up a bit...</td>\n",
              "      <td>It s late and tomorrow I have to wake up a bit...</td>\n",
              "      <td>[('late', 'a'), ('tomorrow', 'n'), ('wake', 'v...</td>\n",
              "      <td>late tomorrow wake bit early</td>\n",
              "      <td>['late', 'tomorrow', 'wake', 'bit', 'early']</td>\n",
              "      <td>neutral</td>\n",
              "    </tr>\n",
              "    <tr>\n",
              "      <th>3</th>\n",
              "      <td>But not early enough to postpone writing these...</td>\n",
              "      <td>But not early enough to postpone writing these...</td>\n",
              "      <td>[('early', 'r'), ('enough', 'r'), ('postpone',...</td>\n",
              "      <td>early enough postpone writing line</td>\n",
              "      <td>['early', 'enough', 'postpone', 'writing', 'li...</td>\n",
              "      <td>positive</td>\n",
              "    </tr>\n",
              "    <tr>\n",
              "      <th>4</th>\n",
              "      <td>Now that I have seen it three times, the oppor...</td>\n",
              "      <td>Now that I have seen it three times the opport...</td>\n",
              "      <td>[('seen', 'v'), ('three', None), ('times', 'v'...</td>\n",
              "      <td>seen three time opportunity sharing thought ...</td>\n",
              "      <td>['seen', 'three', 'time', 'opportunity', 'shar...</td>\n",
              "      <td>positive</td>\n",
              "    </tr>\n",
              "  </tbody>\n",
              "</table>\n",
              "</div>"
            ],
            "text/plain": [
              "                                              review  \\\n",
              "0  It is now past 1 PM and I just finished watchi...   \n",
              "1                       I should probably go to bed.   \n",
              "2  It's late and tomorrow I have to wake up a bit...   \n",
              "3  But not early enough to postpone writing these...   \n",
              "4  Now that I have seen it three times, the oppor...   \n",
              "\n",
              "                                      cleaned_review  \\\n",
              "0  It is now past PM and I just finished watching...   \n",
              "1                       I should probably go to bed    \n",
              "2  It s late and tomorrow I have to wake up a bit...   \n",
              "3  But not early enough to postpone writing these...   \n",
              "4  Now that I have seen it three times the opport...   \n",
              "\n",
              "                                          pos_tagged  \\\n",
              "0  [('past', 'a'), ('PM', 'n'), ('finished', 'v')...   \n",
              "1     [('probably', 'r'), ('go', 'v'), ('bed', 'v')]   \n",
              "2  [('late', 'a'), ('tomorrow', 'n'), ('wake', 'v...   \n",
              "3  [('early', 'r'), ('enough', 'r'), ('postpone',...   \n",
              "4  [('seen', 'v'), ('three', None), ('times', 'v'...   \n",
              "\n",
              "                                               lemma  \\\n",
              "0    past PM finished watching Francis Ford Coppo...   \n",
              "1                                    probably go bed   \n",
              "2                       late tomorrow wake bit early   \n",
              "3                 early enough postpone writing line   \n",
              "4    seen three time opportunity sharing thought ...   \n",
              "\n",
              "                                         lemma_words  polarity  \n",
              "0  ['past', 'PM', 'finished', 'watching', 'Franci...  negative  \n",
              "1                          ['probably', 'go', 'bed']   neutral  \n",
              "2       ['late', 'tomorrow', 'wake', 'bit', 'early']   neutral  \n",
              "3  ['early', 'enough', 'postpone', 'writing', 'li...  positive  \n",
              "4  ['seen', 'three', 'time', 'opportunity', 'shar...  positive  "
            ]
          },
          "execution_count": 2,
          "metadata": {},
          "output_type": "execute_result"
        }
      ],
      "source": [
        "data = pd.read_csv('labeled_data.csv', engine='python')\n",
        "data.head()"
      ]
    },
    {
      "attachments": {},
      "cell_type": "markdown",
      "metadata": {
        "id": "-wsfNPjPfqvk"
      },
      "source": [
        "# Extract data"
      ]
    },
    {
      "cell_type": "code",
      "execution_count": 3,
      "metadata": {
        "colab": {
          "base_uri": "https://localhost:8080/",
          "height": 424
        },
        "id": "oLuQseXgc23B",
        "outputId": "085aabbc-a258-492b-8587-73ec75fb24ce"
      },
      "outputs": [
        {
          "data": {
            "text/html": [
              "<div>\n",
              "<style scoped>\n",
              "    .dataframe tbody tr th:only-of-type {\n",
              "        vertical-align: middle;\n",
              "    }\n",
              "\n",
              "    .dataframe tbody tr th {\n",
              "        vertical-align: top;\n",
              "    }\n",
              "\n",
              "    .dataframe thead th {\n",
              "        text-align: right;\n",
              "    }\n",
              "</style>\n",
              "<table border=\"1\" class=\"dataframe\">\n",
              "  <thead>\n",
              "    <tr style=\"text-align: right;\">\n",
              "      <th></th>\n",
              "      <th>lemma</th>\n",
              "      <th>lemma_words</th>\n",
              "      <th>polarity</th>\n",
              "    </tr>\n",
              "  </thead>\n",
              "  <tbody>\n",
              "    <tr>\n",
              "      <th>0</th>\n",
              "      <td>past PM finished watching Francis Ford Coppo...</td>\n",
              "      <td>['past', 'PM', 'finished', 'watching', 'Franci...</td>\n",
              "      <td>negative</td>\n",
              "    </tr>\n",
              "    <tr>\n",
              "      <th>1</th>\n",
              "      <td>probably go bed</td>\n",
              "      <td>['probably', 'go', 'bed']</td>\n",
              "      <td>neutral</td>\n",
              "    </tr>\n",
              "    <tr>\n",
              "      <th>2</th>\n",
              "      <td>late tomorrow wake bit early</td>\n",
              "      <td>['late', 'tomorrow', 'wake', 'bit', 'early']</td>\n",
              "      <td>neutral</td>\n",
              "    </tr>\n",
              "    <tr>\n",
              "      <th>3</th>\n",
              "      <td>early enough postpone writing line</td>\n",
              "      <td>['early', 'enough', 'postpone', 'writing', 'li...</td>\n",
              "      <td>positive</td>\n",
              "    </tr>\n",
              "    <tr>\n",
              "      <th>4</th>\n",
              "      <td>seen three time opportunity sharing thought ...</td>\n",
              "      <td>['seen', 'three', 'time', 'opportunity', 'shar...</td>\n",
              "      <td>positive</td>\n",
              "    </tr>\n",
              "    <tr>\n",
              "      <th>...</th>\n",
              "      <td>...</td>\n",
              "      <td>...</td>\n",
              "      <td>...</td>\n",
              "    </tr>\n",
              "    <tr>\n",
              "      <th>172697</th>\n",
              "      <td>watched film wanted see bad film expentance ...</td>\n",
              "      <td>['watched', 'film', 'wanted', 'see', 'bad', 'f...</td>\n",
              "      <td>negative</td>\n",
              "    </tr>\n",
              "    <tr>\n",
              "      <th>172698</th>\n",
              "      <td>everyone want really good film good actor hi...</td>\n",
              "      <td>['everyone', 'want', 'really', 'good', 'film',...</td>\n",
              "      <td>positive</td>\n",
              "    </tr>\n",
              "    <tr>\n",
              "      <th>172699</th>\n",
              "      <td>troll film look really funny scene remembere...</td>\n",
              "      <td>['troll', 'film', 'look', 'really', 'funny', '...</td>\n",
              "      <td>positive</td>\n",
              "    </tr>\n",
              "    <tr>\n",
              "      <th>172700</th>\n",
              "      <td>horror movie never scared film</td>\n",
              "      <td>['horror', 'movie', 'never', 'scared', 'film']</td>\n",
              "      <td>negative</td>\n",
              "    </tr>\n",
              "    <tr>\n",
              "      <th>172701</th>\n",
              "      <td>comedy</td>\n",
              "      <td>['comedy']</td>\n",
              "      <td>neutral</td>\n",
              "    </tr>\n",
              "  </tbody>\n",
              "</table>\n",
              "<p>172702 rows × 3 columns</p>\n",
              "</div>"
            ],
            "text/plain": [
              "                                                    lemma  \\\n",
              "0         past PM finished watching Francis Ford Coppo...   \n",
              "1                                         probably go bed   \n",
              "2                            late tomorrow wake bit early   \n",
              "3                      early enough postpone writing line   \n",
              "4         seen three time opportunity sharing thought ...   \n",
              "...                                                   ...   \n",
              "172697    watched film wanted see bad film expentance ...   \n",
              "172698    everyone want really good film good actor hi...   \n",
              "172699    troll film look really funny scene remembere...   \n",
              "172700                     horror movie never scared film   \n",
              "172701                                             comedy   \n",
              "\n",
              "                                              lemma_words  polarity  \n",
              "0       ['past', 'PM', 'finished', 'watching', 'Franci...  negative  \n",
              "1                               ['probably', 'go', 'bed']   neutral  \n",
              "2            ['late', 'tomorrow', 'wake', 'bit', 'early']   neutral  \n",
              "3       ['early', 'enough', 'postpone', 'writing', 'li...  positive  \n",
              "4       ['seen', 'three', 'time', 'opportunity', 'shar...  positive  \n",
              "...                                                   ...       ...  \n",
              "172697  ['watched', 'film', 'wanted', 'see', 'bad', 'f...  negative  \n",
              "172698  ['everyone', 'want', 'really', 'good', 'film',...  positive  \n",
              "172699  ['troll', 'film', 'look', 'really', 'funny', '...  positive  \n",
              "172700     ['horror', 'movie', 'never', 'scared', 'film']  negative  \n",
              "172701                                         ['comedy']   neutral  \n",
              "\n",
              "[172702 rows x 3 columns]"
            ]
          },
          "execution_count": 3,
          "metadata": {},
          "output_type": "execute_result"
        }
      ],
      "source": [
        "data = data[['lemma','lemma_words','polarity']]\n",
        "data"
      ]
    },
    {
      "attachments": {},
      "cell_type": "markdown",
      "metadata": {
        "id": "TjvzgNipftjT"
      },
      "source": [
        "# Sampling data"
      ]
    },
    {
      "cell_type": "code",
      "execution_count": 4,
      "metadata": {
        "id": "ZzR-OuulgrS-"
      },
      "outputs": [],
      "source": [
        "data_each_polarity = 40000"
      ]
    },
    {
      "cell_type": "code",
      "execution_count": 5,
      "metadata": {
        "colab": {
          "base_uri": "https://localhost:8080/",
          "height": 424
        },
        "id": "I_j6EkwwgqBv",
        "outputId": "9834d6d3-a145-4bc1-cd77-6dec9b1752a6"
      },
      "outputs": [
        {
          "data": {
            "text/html": [
              "<div>\n",
              "<style scoped>\n",
              "    .dataframe tbody tr th:only-of-type {\n",
              "        vertical-align: middle;\n",
              "    }\n",
              "\n",
              "    .dataframe tbody tr th {\n",
              "        vertical-align: top;\n",
              "    }\n",
              "\n",
              "    .dataframe thead th {\n",
              "        text-align: right;\n",
              "    }\n",
              "</style>\n",
              "<table border=\"1\" class=\"dataframe\">\n",
              "  <thead>\n",
              "    <tr style=\"text-align: right;\">\n",
              "      <th></th>\n",
              "      <th>lemma</th>\n",
              "      <th>lemma_words</th>\n",
              "      <th>polarity</th>\n",
              "    </tr>\n",
              "  </thead>\n",
              "  <tbody>\n",
              "    <tr>\n",
              "      <th>92477</th>\n",
              "      <td>want damn good touching movie go see America...</td>\n",
              "      <td>['want', 'damn', 'good', 'touching', 'movie', ...</td>\n",
              "      <td>positive</td>\n",
              "    </tr>\n",
              "    <tr>\n",
              "      <th>48381</th>\n",
              "      <td>unique expressive direction work perfectly p...</td>\n",
              "      <td>['unique', 'expressive', 'direction', 'work', ...</td>\n",
              "      <td>positive</td>\n",
              "    </tr>\n",
              "    <tr>\n",
              "      <th>134557</th>\n",
              "      <td>disappointed guess well DBZ fan see made her...</td>\n",
              "      <td>['disappointed', 'guess', 'well', 'DBZ', 'fan'...</td>\n",
              "      <td>positive</td>\n",
              "    </tr>\n",
              "    <tr>\n",
              "      <th>37849</th>\n",
              "      <td>music intense worked great amazing totally a...</td>\n",
              "      <td>['music', 'intense', 'worked', 'great', 'amazi...</td>\n",
              "      <td>positive</td>\n",
              "    </tr>\n",
              "    <tr>\n",
              "      <th>6665</th>\n",
              "      <td>friend kept telling watch thought brilliant</td>\n",
              "      <td>['friend', 'kept', 'telling', 'watch', 'though...</td>\n",
              "      <td>positive</td>\n",
              "    </tr>\n",
              "    <tr>\n",
              "      <th>...</th>\n",
              "      <td>...</td>\n",
              "      <td>...</td>\n",
              "      <td>...</td>\n",
              "    </tr>\n",
              "    <tr>\n",
              "      <th>2486</th>\n",
              "      <td>movie love admire say Godfather favourite mo...</td>\n",
              "      <td>['movie', 'love', 'admire', 'say', 'Godfather'...</td>\n",
              "      <td>positive</td>\n",
              "    </tr>\n",
              "    <tr>\n",
              "      <th>27866</th>\n",
              "      <td>hacker awakens reality join rebellion machin...</td>\n",
              "      <td>['hacker', 'awakens', 'reality', 'join', 'rebe...</td>\n",
              "      <td>positive</td>\n",
              "    </tr>\n",
              "    <tr>\n",
              "      <th>60857</th>\n",
              "      <td>Scorsese brings list cast comprising Damon D...</td>\n",
              "      <td>['Scorsese', 'brings', 'list', 'cast', 'compri...</td>\n",
              "      <td>positive</td>\n",
              "    </tr>\n",
              "    <tr>\n",
              "      <th>114560</th>\n",
              "      <td>well expected</td>\n",
              "      <td>['well', 'expected']</td>\n",
              "      <td>positive</td>\n",
              "    </tr>\n",
              "    <tr>\n",
              "      <th>24108</th>\n",
              "      <td>film ok</td>\n",
              "      <td>['film', 'ok']</td>\n",
              "      <td>positive</td>\n",
              "    </tr>\n",
              "  </tbody>\n",
              "</table>\n",
              "<p>40000 rows × 3 columns</p>\n",
              "</div>"
            ],
            "text/plain": [
              "                                                    lemma  \\\n",
              "92477     want damn good touching movie go see America...   \n",
              "48381     unique expressive direction work perfectly p...   \n",
              "134557    disappointed guess well DBZ fan see made her...   \n",
              "37849     music intense worked great amazing totally a...   \n",
              "6665          friend kept telling watch thought brilliant   \n",
              "...                                                   ...   \n",
              "2486      movie love admire say Godfather favourite mo...   \n",
              "27866     hacker awakens reality join rebellion machin...   \n",
              "60857     Scorsese brings list cast comprising Damon D...   \n",
              "114560                                      well expected   \n",
              "24108                                             film ok   \n",
              "\n",
              "                                              lemma_words  polarity  \n",
              "92477   ['want', 'damn', 'good', 'touching', 'movie', ...  positive  \n",
              "48381   ['unique', 'expressive', 'direction', 'work', ...  positive  \n",
              "134557  ['disappointed', 'guess', 'well', 'DBZ', 'fan'...  positive  \n",
              "37849   ['music', 'intense', 'worked', 'great', 'amazi...  positive  \n",
              "6665    ['friend', 'kept', 'telling', 'watch', 'though...  positive  \n",
              "...                                                   ...       ...  \n",
              "2486    ['movie', 'love', 'admire', 'say', 'Godfather'...  positive  \n",
              "27866   ['hacker', 'awakens', 'reality', 'join', 'rebe...  positive  \n",
              "60857   ['Scorsese', 'brings', 'list', 'cast', 'compri...  positive  \n",
              "114560                               ['well', 'expected']  positive  \n",
              "24108                                      ['film', 'ok']  positive  \n",
              "\n",
              "[40000 rows x 3 columns]"
            ]
          },
          "execution_count": 5,
          "metadata": {},
          "output_type": "execute_result"
        }
      ],
      "source": [
        "pos_data = data.loc[data['polarity'] == 'positive']\n",
        "pos_data = pos_data.sample(n=data_each_polarity)\n",
        "pos_data"
      ]
    },
    {
      "cell_type": "code",
      "execution_count": 6,
      "metadata": {
        "colab": {
          "base_uri": "https://localhost:8080/",
          "height": 424
        },
        "id": "_5o68nlsjF-j",
        "outputId": "cf759b93-f27f-4cc1-d5cd-d3e2e3df29f7"
      },
      "outputs": [
        {
          "data": {
            "text/html": [
              "<div>\n",
              "<style scoped>\n",
              "    .dataframe tbody tr th:only-of-type {\n",
              "        vertical-align: middle;\n",
              "    }\n",
              "\n",
              "    .dataframe tbody tr th {\n",
              "        vertical-align: top;\n",
              "    }\n",
              "\n",
              "    .dataframe thead th {\n",
              "        text-align: right;\n",
              "    }\n",
              "</style>\n",
              "<table border=\"1\" class=\"dataframe\">\n",
              "  <thead>\n",
              "    <tr style=\"text-align: right;\">\n",
              "      <th></th>\n",
              "      <th>lemma</th>\n",
              "      <th>lemma_words</th>\n",
              "      <th>polarity</th>\n",
              "    </tr>\n",
              "  </thead>\n",
              "  <tbody>\n",
              "    <tr>\n",
              "      <th>162042</th>\n",
              "      <td>however high budget film singer acting exper...</td>\n",
              "      <td>['however', 'high', 'budget', 'film', 'singer'...</td>\n",
              "      <td>negative</td>\n",
              "    </tr>\n",
              "    <tr>\n",
              "      <th>86783</th>\n",
              "      <td>bit light hearted relief every often especia...</td>\n",
              "      <td>['bit', 'light', 'hearted', 'relief', 'every',...</td>\n",
              "      <td>negative</td>\n",
              "    </tr>\n",
              "    <tr>\n",
              "      <th>121951</th>\n",
              "      <td>Everyone else worked movie bow head Director...</td>\n",
              "      <td>['Everyone', 'else', 'worked', 'movie', 'bow',...</td>\n",
              "      <td>negative</td>\n",
              "    </tr>\n",
              "    <tr>\n",
              "      <th>1630</th>\n",
              "      <td>irony American Dream man parodied capitalism...</td>\n",
              "      <td>['irony', 'American', 'Dream', 'man', 'parodie...</td>\n",
              "      <td>negative</td>\n",
              "    </tr>\n",
              "    <tr>\n",
              "      <th>147974</th>\n",
              "      <td>usually ill laugh pretty much anything movie...</td>\n",
              "      <td>['usually', 'ill', 'laugh', 'pretty', 'much', ...</td>\n",
              "      <td>negative</td>\n",
              "    </tr>\n",
              "    <tr>\n",
              "      <th>...</th>\n",
              "      <td>...</td>\n",
              "      <td>...</td>\n",
              "      <td>...</td>\n",
              "    </tr>\n",
              "    <tr>\n",
              "      <th>38114</th>\n",
              "      <td>Although constantly mope depression tried in...</td>\n",
              "      <td>['Although', 'constantly', 'mope', 'depression...</td>\n",
              "      <td>negative</td>\n",
              "    </tr>\n",
              "    <tr>\n",
              "      <th>41619</th>\n",
              "      <td>dream movie orderly</td>\n",
              "      <td>['dream', 'movie', 'orderly']</td>\n",
              "      <td>negative</td>\n",
              "    </tr>\n",
              "    <tr>\n",
              "      <th>86623</th>\n",
              "      <td>Gandalf gang still trying defeat wrath Sauro...</td>\n",
              "      <td>['Gandalf', 'gang', 'still', 'trying', 'defeat...</td>\n",
              "      <td>negative</td>\n",
              "    </tr>\n",
              "    <tr>\n",
              "      <th>86534</th>\n",
              "      <td>something strangely knowing final scene One ...</td>\n",
              "      <td>['something', 'strangely', 'knowing', 'final',...</td>\n",
              "      <td>negative</td>\n",
              "    </tr>\n",
              "    <tr>\n",
              "      <th>25139</th>\n",
              "      <td>Tyler nihilistic way help narrator realize e...</td>\n",
              "      <td>['Tyler', 'nihilistic', 'way', 'help', 'narrat...</td>\n",
              "      <td>negative</td>\n",
              "    </tr>\n",
              "  </tbody>\n",
              "</table>\n",
              "<p>40000 rows × 3 columns</p>\n",
              "</div>"
            ],
            "text/plain": [
              "                                                    lemma  \\\n",
              "162042    however high budget film singer acting exper...   \n",
              "86783     bit light hearted relief every often especia...   \n",
              "121951    Everyone else worked movie bow head Director...   \n",
              "1630      irony American Dream man parodied capitalism...   \n",
              "147974    usually ill laugh pretty much anything movie...   \n",
              "...                                                   ...   \n",
              "38114     Although constantly mope depression tried in...   \n",
              "41619                                 dream movie orderly   \n",
              "86623     Gandalf gang still trying defeat wrath Sauro...   \n",
              "86534     something strangely knowing final scene One ...   \n",
              "25139     Tyler nihilistic way help narrator realize e...   \n",
              "\n",
              "                                              lemma_words  polarity  \n",
              "162042  ['however', 'high', 'budget', 'film', 'singer'...  negative  \n",
              "86783   ['bit', 'light', 'hearted', 'relief', 'every',...  negative  \n",
              "121951  ['Everyone', 'else', 'worked', 'movie', 'bow',...  negative  \n",
              "1630    ['irony', 'American', 'Dream', 'man', 'parodie...  negative  \n",
              "147974  ['usually', 'ill', 'laugh', 'pretty', 'much', ...  negative  \n",
              "...                                                   ...       ...  \n",
              "38114   ['Although', 'constantly', 'mope', 'depression...  negative  \n",
              "41619                       ['dream', 'movie', 'orderly']  negative  \n",
              "86623   ['Gandalf', 'gang', 'still', 'trying', 'defeat...  negative  \n",
              "86534   ['something', 'strangely', 'knowing', 'final',...  negative  \n",
              "25139   ['Tyler', 'nihilistic', 'way', 'help', 'narrat...  negative  \n",
              "\n",
              "[40000 rows x 3 columns]"
            ]
          },
          "execution_count": 6,
          "metadata": {},
          "output_type": "execute_result"
        }
      ],
      "source": [
        "neg_data = data.loc[data['polarity'] == 'negative']\n",
        "neg_data = neg_data.sample(n=data_each_polarity)\n",
        "neg_data"
      ]
    },
    {
      "attachments": {},
      "cell_type": "markdown",
      "metadata": {
        "id": "qkjvI5jAfxIU"
      },
      "source": [
        "# Label encoding"
      ]
    },
    {
      "cell_type": "code",
      "execution_count": 7,
      "metadata": {
        "colab": {
          "base_uri": "https://localhost:8080/",
          "height": 424
        },
        "id": "FetEy2whjhMr",
        "outputId": "fc476fe4-3474-43bb-ecf0-5fcec74d3d35"
      },
      "outputs": [
        {
          "data": {
            "text/html": [
              "<div>\n",
              "<style scoped>\n",
              "    .dataframe tbody tr th:only-of-type {\n",
              "        vertical-align: middle;\n",
              "    }\n",
              "\n",
              "    .dataframe tbody tr th {\n",
              "        vertical-align: top;\n",
              "    }\n",
              "\n",
              "    .dataframe thead th {\n",
              "        text-align: right;\n",
              "    }\n",
              "</style>\n",
              "<table border=\"1\" class=\"dataframe\">\n",
              "  <thead>\n",
              "    <tr style=\"text-align: right;\">\n",
              "      <th></th>\n",
              "      <th>lemma</th>\n",
              "      <th>lemma_words</th>\n",
              "      <th>polarity</th>\n",
              "    </tr>\n",
              "  </thead>\n",
              "  <tbody>\n",
              "    <tr>\n",
              "      <th>70045</th>\n",
              "      <td>Sadly cat smart enough split halfway nightma...</td>\n",
              "      <td>['Sadly', 'cat', 'smart', 'enough', 'split', '...</td>\n",
              "      <td>0</td>\n",
              "    </tr>\n",
              "    <tr>\n",
              "      <th>55273</th>\n",
              "      <td>Walker forced slimy squirming centipede like...</td>\n",
              "      <td>['Walker', 'forced', 'slimy', 'squirming', 'ce...</td>\n",
              "      <td>0</td>\n",
              "    </tr>\n",
              "    <tr>\n",
              "      <th>65720</th>\n",
              "      <td>felt sickened everything rarely hated charac...</td>\n",
              "      <td>['felt', 'sickened', 'everything', 'rarely', '...</td>\n",
              "      <td>0</td>\n",
              "    </tr>\n",
              "    <tr>\n",
              "      <th>5770</th>\n",
              "      <td>waste time</td>\n",
              "      <td>['waste', 'time']</td>\n",
              "      <td>1</td>\n",
              "    </tr>\n",
              "    <tr>\n",
              "      <th>68663</th>\n",
              "      <td>evidence gathered point think reach guilty v...</td>\n",
              "      <td>['evidence', 'gathered', 'point', 'think', 're...</td>\n",
              "      <td>0</td>\n",
              "    </tr>\n",
              "    <tr>\n",
              "      <th>...</th>\n",
              "      <td>...</td>\n",
              "      <td>...</td>\n",
              "      <td>...</td>\n",
              "    </tr>\n",
              "    <tr>\n",
              "      <th>10250</th>\n",
              "      <td>Forrest gump one best movie ever seen Tom Ha...</td>\n",
              "      <td>['Forrest', 'gump', 'one', 'best', 'movie', 'e...</td>\n",
              "      <td>1</td>\n",
              "    </tr>\n",
              "    <tr>\n",
              "      <th>24926</th>\n",
              "      <td>say film solely grown men punching one anoth...</td>\n",
              "      <td>['say', 'film', 'solely', 'grown', 'men', 'pun...</td>\n",
              "      <td>1</td>\n",
              "    </tr>\n",
              "    <tr>\n",
              "      <th>70331</th>\n",
              "      <td>regret watching Radhe Superb Movie Excellent...</td>\n",
              "      <td>['regret', 'watching', 'Radhe', 'Superb', 'Mov...</td>\n",
              "      <td>0</td>\n",
              "    </tr>\n",
              "    <tr>\n",
              "      <th>41180</th>\n",
              "      <td>Anthony Hopkin performance movie value whats...</td>\n",
              "      <td>['Anthony', 'Hopkin', 'performance', 'movie', ...</td>\n",
              "      <td>0</td>\n",
              "    </tr>\n",
              "    <tr>\n",
              "      <th>27011</th>\n",
              "      <td>slowness beautifully realized audience know ...</td>\n",
              "      <td>['slowness', 'beautifully', 'realized', 'audie...</td>\n",
              "      <td>1</td>\n",
              "    </tr>\n",
              "  </tbody>\n",
              "</table>\n",
              "<p>80000 rows × 3 columns</p>\n",
              "</div>"
            ],
            "text/plain": [
              "                                                   lemma  \\\n",
              "70045    Sadly cat smart enough split halfway nightma...   \n",
              "55273    Walker forced slimy squirming centipede like...   \n",
              "65720    felt sickened everything rarely hated charac...   \n",
              "5770                                          waste time   \n",
              "68663    evidence gathered point think reach guilty v...   \n",
              "...                                                  ...   \n",
              "10250    Forrest gump one best movie ever seen Tom Ha...   \n",
              "24926    say film solely grown men punching one anoth...   \n",
              "70331    regret watching Radhe Superb Movie Excellent...   \n",
              "41180    Anthony Hopkin performance movie value whats...   \n",
              "27011    slowness beautifully realized audience know ...   \n",
              "\n",
              "                                             lemma_words  polarity  \n",
              "70045  ['Sadly', 'cat', 'smart', 'enough', 'split', '...         0  \n",
              "55273  ['Walker', 'forced', 'slimy', 'squirming', 'ce...         0  \n",
              "65720  ['felt', 'sickened', 'everything', 'rarely', '...         0  \n",
              "5770                                   ['waste', 'time']         1  \n",
              "68663  ['evidence', 'gathered', 'point', 'think', 're...         0  \n",
              "...                                                  ...       ...  \n",
              "10250  ['Forrest', 'gump', 'one', 'best', 'movie', 'e...         1  \n",
              "24926  ['say', 'film', 'solely', 'grown', 'men', 'pun...         1  \n",
              "70331  ['regret', 'watching', 'Radhe', 'Superb', 'Mov...         0  \n",
              "41180  ['Anthony', 'Hopkin', 'performance', 'movie', ...         0  \n",
              "27011  ['slowness', 'beautifully', 'realized', 'audie...         1  \n",
              "\n",
              "[80000 rows x 3 columns]"
            ]
          },
          "execution_count": 7,
          "metadata": {},
          "output_type": "execute_result"
        }
      ],
      "source": [
        "data = pd.concat([pos_data, neg_data], ignore_index=True)\n",
        "data = data.replace({'polarity': {'negative': 0, 'positive': 1}})\n",
        "data = data.sample(frac=1)\n",
        "data"
      ]
    },
    {
      "attachments": {},
      "cell_type": "markdown",
      "metadata": {
        "id": "NyLRu9jNf5uz"
      },
      "source": [
        "# Train data and benchmark"
      ]
    },
    {
      "cell_type": "code",
      "execution_count": 8,
      "metadata": {
        "id": "qb9uvfjEtITl"
      },
      "outputs": [],
      "source": [
        "def fit_and_benchmark(model, X_train,X_test, y_train, y_test):\n",
        "  model.fit(X_train, y_train)\n",
        "  y_pred = model.predict(X_test)\n",
        "  print(classification_report(y_pred,y_test))\n",
        "  print(\"Accuracy:\",accuracy_score(y_pred, y_test))"
      ]
    },
    {
      "cell_type": "code",
      "execution_count": 9,
      "metadata": {
        "id": "aW1oSDS4tjcs"
      },
      "outputs": [],
      "source": [
        "rfclf = RandomForestClassifier()\n",
        "xgb_clf= GradientBoostingClassifier()\n",
        "lgr = LogisticRegression(max_iter=1000)"
      ]
    },
    {
      "cell_type": "code",
      "execution_count": 10,
      "metadata": {
        "id": "_237onr_kPNd"
      },
      "outputs": [],
      "source": [
        "target = data['polarity']\n",
        "lemma_data = data['lemma']\n",
        "lemma_words_data = data['lemma_words'].apply(lambda x: x[1:-1].split(','))"
      ]
    },
    {
      "attachments": {},
      "cell_type": "markdown",
      "metadata": {
        "id": "ni7z82FFf_Tc"
      },
      "source": [
        "# Tf-idf"
      ]
    },
    {
      "cell_type": "code",
      "execution_count": 11,
      "metadata": {},
      "outputs": [],
      "source": [
        "vectorizer = TfidfVectorizer()\n",
        "X = vectorizer.fit_transform(lemma_data)\n",
        "X_train, X_test, y_train, y_test = train_test_split(X, target, test_size=0.2, random_state=42)"
      ]
    },
    {
      "cell_type": "code",
      "execution_count": 12,
      "metadata": {
        "colab": {
          "base_uri": "https://localhost:8080/"
        },
        "id": "FjiqJR6Gts80",
        "outputId": "1d5f9c76-a228-4a2c-dd1d-848a3d663355"
      },
      "outputs": [
        {
          "name": "stdout",
          "output_type": "stream",
          "text": [
            "              precision    recall  f1-score   support\n",
            "\n",
            "           0       0.84      0.84      0.84      8014\n",
            "           1       0.84      0.84      0.84      7986\n",
            "\n",
            "    accuracy                           0.84     16000\n",
            "   macro avg       0.84      0.84      0.84     16000\n",
            "weighted avg       0.84      0.84      0.84     16000\n",
            "\n",
            "Accuracy: 0.839625\n"
          ]
        }
      ],
      "source": [
        "fit_and_benchmark(rfclf, X_train, X_test, y_train, y_test)"
      ]
    },
    {
      "cell_type": "code",
      "execution_count": 13,
      "metadata": {
        "colab": {
          "base_uri": "https://localhost:8080/"
        },
        "id": "wbk9qaIDuoYR",
        "outputId": "22daeca9-5f7c-47dd-cfe5-c3173ba53d48"
      },
      "outputs": [
        {
          "name": "stdout",
          "output_type": "stream",
          "text": [
            "              precision    recall  f1-score   support\n",
            "\n",
            "           0       0.91      0.66      0.76     11080\n",
            "           1       0.52      0.86      0.65      4920\n",
            "\n",
            "    accuracy                           0.72     16000\n",
            "   macro avg       0.72      0.76      0.71     16000\n",
            "weighted avg       0.79      0.72      0.73     16000\n",
            "\n",
            "Accuracy: 0.71725\n"
          ]
        }
      ],
      "source": [
        "fit_and_benchmark(xgb_clf, X_train, X_test, y_train, y_test)"
      ]
    },
    {
      "cell_type": "code",
      "execution_count": 14,
      "metadata": {
        "colab": {
          "base_uri": "https://localhost:8080/"
        },
        "id": "xykW2SenupVp",
        "outputId": "8fca79ad-3c92-4fdb-8672-a28238834226"
      },
      "outputs": [
        {
          "name": "stdout",
          "output_type": "stream",
          "text": [
            "              precision    recall  f1-score   support\n",
            "\n",
            "           0       0.90      0.88      0.89      8177\n",
            "           1       0.88      0.90      0.89      7823\n",
            "\n",
            "    accuracy                           0.89     16000\n",
            "   macro avg       0.89      0.89      0.89     16000\n",
            "weighted avg       0.89      0.89      0.89     16000\n",
            "\n",
            "Accuracy: 0.8884375\n"
          ]
        }
      ],
      "source": [
        "fit_and_benchmark(lgr, X_train, X_test, y_train, y_test)"
      ]
    },
    {
      "attachments": {},
      "cell_type": "markdown",
      "metadata": {
        "id": "RUJZNl2kgCsb"
      },
      "source": [
        "# Doc2vec"
      ]
    },
    {
      "cell_type": "code",
      "execution_count": 15,
      "metadata": {},
      "outputs": [],
      "source": [
        "vector_size = 128\n",
        "training_data = [TaggedDocument(lemma_words_data[i], [i]) for i in range(len(lemma_words_data))]\n",
        "model = Doc2Vec(min_count=1, vector_size=vector_size)\n",
        "model.build_vocab(training_data)\n",
        "model.train(training_data, total_examples=model.corpus_count, epochs=model.epochs)"
      ]
    },
    {
      "cell_type": "code",
      "execution_count": 16,
      "metadata": {},
      "outputs": [],
      "source": [
        "X = np.ones((80000, vector_size))\n",
        "for i in range(80000):\n",
        "    X[i] = model[i]\n",
        "X_train, X_test, Y_train, Y_test = train_test_split(\n",
        "    X, target, test_size=0.2, random_state=42)"
      ]
    },
    {
      "cell_type": "code",
      "execution_count": 17,
      "metadata": {
        "colab": {
          "base_uri": "https://localhost:8080/"
        },
        "id": "iZYSRLyNu2IB",
        "outputId": "9a0dac3f-eb58-4272-8d75-50669f129ffa"
      },
      "outputs": [
        {
          "name": "stdout",
          "output_type": "stream",
          "text": [
            "              precision    recall  f1-score   support\n",
            "\n",
            "           0       0.53      0.49      0.51      8610\n",
            "           1       0.46      0.50      0.48      7390\n",
            "\n",
            "    accuracy                           0.50     16000\n",
            "   macro avg       0.50      0.50      0.49     16000\n",
            "weighted avg       0.50      0.50      0.50     16000\n",
            "\n",
            "Accuracy: 0.495625\n"
          ]
        }
      ],
      "source": [
        "fit_and_benchmark(rfclf, X_train, X_test, Y_train, Y_test)"
      ]
    },
    {
      "cell_type": "code",
      "execution_count": 18,
      "metadata": {
        "colab": {
          "base_uri": "https://localhost:8080/"
        },
        "id": "dKWLnCxwu20x",
        "outputId": "61e038dd-8bc9-4bb6-9850-5959a00ec530"
      },
      "outputs": [
        {
          "name": "stdout",
          "output_type": "stream",
          "text": [
            "              precision    recall  f1-score   support\n",
            "\n",
            "           0       0.50      0.49      0.50      8012\n",
            "           1       0.50      0.50      0.50      7988\n",
            "\n",
            "    accuracy                           0.50     16000\n",
            "   macro avg       0.50      0.50      0.50     16000\n",
            "weighted avg       0.50      0.50      0.50     16000\n",
            "\n",
            "Accuracy: 0.497125\n"
          ]
        }
      ],
      "source": [
        "fit_and_benchmark(xgb_clf, X_train, X_test, Y_train, Y_test)"
      ]
    },
    {
      "cell_type": "code",
      "execution_count": 19,
      "metadata": {
        "colab": {
          "base_uri": "https://localhost:8080/"
        },
        "id": "qMNBsUwTu4jh",
        "outputId": "f0bf922b-e220-4f01-bb30-381b960b535b"
      },
      "outputs": [
        {
          "name": "stdout",
          "output_type": "stream",
          "text": [
            "              precision    recall  f1-score   support\n",
            "\n",
            "           0       0.57      0.50      0.53      9061\n",
            "           1       0.44      0.50      0.47      6939\n",
            "\n",
            "    accuracy                           0.50     16000\n",
            "   macro avg       0.50      0.50      0.50     16000\n",
            "weighted avg       0.51      0.50      0.50     16000\n",
            "\n",
            "Accuracy: 0.5016875\n"
          ]
        }
      ],
      "source": [
        "fit_and_benchmark(lgr, X_train, X_test, Y_train, Y_test)"
      ]
    }
  ],
  "metadata": {
    "colab": {
      "provenance": []
    },
    "kernelspec": {
      "display_name": "Python 3",
      "name": "python3"
    },
    "language_info": {
      "codemirror_mode": {
        "name": "ipython",
        "version": 3
      },
      "file_extension": ".py",
      "mimetype": "text/x-python",
      "name": "python",
      "nbconvert_exporter": "python",
      "pygments_lexer": "ipython3",
      "version": "3.9.7"
    }
  },
  "nbformat": 4,
  "nbformat_minor": 0
}
